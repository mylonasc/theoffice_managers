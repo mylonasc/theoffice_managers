{
 "cells": [
  {
   "cell_type": "code",
   "execution_count": 1,
   "metadata": {},
   "outputs": [
    {
     "name": "stdout",
     "output_type": "stream",
     "text": [
      "\n",
      "### 1. **Michael Scott (Regional Manager)**\n",
      "   - **Empathy and Motivation:** Despite his numerous flaws, Michael genuinely cares for his employees and considers them family. He often tries to lift spirits and celebrate milestones.\n",
      "   - **Creativity:** Michael uses unorthodox methods to boost morale, like improv games or office events. This occasionally sparks enthusiasm and fosters a fun work environment.\n",
      "   - **Loyalty:** He is fiercely loyal to his team and stands up for them in front of upper management when necessary.\n",
      "   - **Downside:** His lack of professionalism, frequent distractions, and need for validation often undermine his leadership.\n",
      "\n",
      "### 2. **Jim Halpert (Co-Manager / Assistant Regional Manager)**\n",
      "   - **Adaptability:** Jim is versatile and can switch between different management styles. He’s capable of being both a laid-back friend and a serious, task-oriented leader.\n",
      "   - **Relatable and Approachable:** He builds genuine relationships with coworkers, making him an easy-to-approach manager.\n",
      "   - **Strategic Thinking:** Jim often takes a long-term view, such as planning pranks or proposing ideas to improve business operations.\n",
      "   - **Downside:** He can sometimes be passive and indecisive, which can prevent him from taking firm leadership action.\n",
      "\n",
      "### 3. **Dwight Schrute (Assistant to the Regional Manager / Regional Manager)**\n",
      "   - **Dedication and Hard Work:** Dwight is incredibly committed to his job, always willing to go above and beyond. His work ethic is unmatched, and he leads by example.\n",
      "   - **Confidence and Assertiveness:** He has a commanding presence and isn’t afraid to make difficult decisions, which is critical for effective leadership.\n",
      "   - **Problem-Solving Skills:** Dwight often comes up with solutions in emergencies and thinks creatively under pressure.\n",
      "   - **Downside:** His authoritarian style, lack of social skills, and occasional power trips can make him a less effective leader.\n",
      "\n",
      "### 4. **Jan Levinson (Vice President of Regional Sales)**\n",
      "   - **Competence and Intelligence:** Jan is extremely knowledgeable about the business world and brings a high level of professionalism to her role.\n",
      "   - **Directness and Assertiveness:** She isn’t afraid to make tough decisions or address performance issues, which can be a strength in leadership.\n",
      "   - **Attention to Detail:** Jan is meticulous in her work, ensuring that everything is up to standard.\n",
      "   - **Downside:** Her personal issues and tendency toward micromanagement can lead to erratic behavior and inconsistency in leadership.\n",
      "\n",
      "### 5. **David Wallace (Chief Financial Officer / CEO)**\n",
      "   - **Calm and Composed:** David is level-headed, even in crises. He maintains a professional demeanor and doesn’t panic, which inspires confidence.\n",
      "   - **Empathy and Understanding:** He treats employees with respect, listens to their concerns, and offers practical advice and support.\n",
      "   - **Strategic Vision:** David has a clear understanding of the company's big picture, enabling him to guide the company through challenging times.\n",
      "   - **Downside:** He sometimes delegates too much authority to ineffective leaders (e.g., allowing Michael to remain in charge for so long).\n",
      "\n",
      "### 6. **Ryan Howard (Temporary Employee / Vice President of Sales)**\n",
      "   - **Ambition and Vision:** Ryan is highly ambitious and shows a desire to bring modern ideas to the company, such as leveraging technology and marketing trends.\n",
      "   - **Innovation:** He tries to implement new strategies, such as the website “Dunder Mifflin Infinity,” aiming to modernize the business.\n",
      "   - **Downside:** Ryan’s arrogance, unethical behavior, and lack of real experience make him a poor leader. His desire for quick success often leads to reckless decisions.\n",
      "\n",
      "### 7. **Charles Miner (Vice President of Regional Sales)**\n",
      "   - **Professionalism and Structure:** Charles brings a sense of order and structure to the Scranton branch, providing clear expectations and maintaining professionalism.\n",
      "   - **Assertiveness:** He isn’t afraid to challenge employees and hold them accountable, pushing for results.\n",
      "   - **Downside:** Charles’s rigid style and inability to connect with employees create tension and reduce morale. He lacks the warmth needed to inspire loyalty.\n",
      "\n",
      "### 8. **Andy Bernard (Regional Manager)**\n",
      "   - **Enthusiasm and Optimism:** Andy is known for his positive attitude and attempts to motivate the team with his energy.\n",
      "   - **Encouragement of Creativity:** He tries to bring his unique flair to the office, often using music and humor to lighten the mood.\n",
      "   - **Team Spirit:** Andy values camaraderie and wants the office to feel like a unified group.\n",
      "   - **Downside:** Andy’s insecurity and lack of decisiveness make him an inconsistent leader. He struggles with self-confidence and tends to avoid conflict.\n",
      "\n",
      "### 9. **Gabe Lewis (Coordinator of Emerging Regions)**\n",
      "   - **Adherence to Policy:** Gabe strictly follows Sabre’s guidelines, ensuring that company policies are upheld.\n",
      "   - **Adaptability:** He tries to fit into the office culture despite his corporate background, showing some adaptability.\n",
      "   - **Downside:** Gabe’s lack of assertiveness and difficulty connecting with others make him an ineffective leader. He’s seen more as a corporate messenger than a true manager.\n",
      "\n",
      "### 10. **Jo Bennett (CEO of Sabre)**\n",
      "   - **No-Nonsense Attitude:** Jo is straightforward and doesn't tolerate nonsense. She gets to the point and expects others to do the same.\n",
      "   - **Empowerment:** She encourages employees to be self-reliant and proactive, promoting a culture of independence.\n",
      "   - **Experience and Wisdom:** Jo’s extensive experience gives her a deep understanding of business operations, making her a respected leader.\n",
      "   - **Downside:** Her abrupt and forceful style can be intimidating, which might discourage open communication from subordinates.\n",
      "\n",
      "### 11. **Robert California (CEO of Dunder Mifflin)**\n",
      "   - **Charisma:** Robert possesses a magnetic personality and can be highly persuasive, drawing people into his way of thinking.\n",
      "   - **Unconventional Leadership:** He challenges conventional thinking, often pushing employees to explore new perspectives and ideas.\n",
      "   - **Adaptability:** Robert can read people well and adapt his style to different situations, making him an effective, albeit mysterious, leader.\n",
      "   - **Downside:** His erratic and often confusing leadership style leaves employees unsure of expectations and goals.\n",
      "\n"
     ]
    }
   ],
   "source": [
    "!cat office_managers.md"
   ]
  },
  {
   "cell_type": "code",
   "execution_count": 49,
   "metadata": {},
   "outputs": [],
   "source": [
    "managers =  [('Michael Scott (Regional Manager)', 'images/michael_scott.png',\n",
    "   '**Empathy and Motivation:** Despite his numerous flaws, Michael genuinely cares for his employees and considers them family. He often tries to lift spirits and celebrate milestones.',\n",
    "   '**Creativity:** Michael uses unorthodox methods to boost morale, like improv games or office events. This occasionally sparks enthusiasm and fosters a fun work environment.',\n",
    "   '**Loyalty:** He is fiercely loyal to his team and stands up for them in front of upper management when necessary.',\n",
    "   '**Downside:** His lack of professionalism, frequent distractions, and need for validation often undermine his leadership.'),\n",
    "('Jim Halpert (Co-Manager / Assistant Regional Manager)','images/jim_halpert.png',\n",
    "   '**Adaptability:** Jim is versatile and can switch between different management styles. He is capable of being both a laid-back friend and a serious, task-oriented leader.',\n",
    "    '**Relatable and Approachable:** He builds genuine relationships with coworkers, making him an easy-to-approach manager.',\n",
    "    '**Strategic Thinking:** Jim often takes a long-term view, such as planning pranks or proposing ideas to improve business operations.',\n",
    "   '**Downside:** He can sometimes be passive and indecisive, which can prevent him from taking firm leadership action.'),\n",
    "('Dwight Schrute (Assistant to the Regional Manager / Regional Manager)','images/dwight.png',\n",
    "    '**Dedication and Hard Work:** Dwight is incredibly committed to his job, always willing to go above and beyond. His work ethic is unmatched, and he leads by example.',\n",
    "    '**Confidence and Assertiveness:** He has a commanding presence and he is not afraid to make difficult decisions, which is critical for effective leadership.',\n",
    "    '**Problem-Solving Skills:** Dwight often comes up with solutions in emergencies and thinks creatively under pressure.',\n",
    "   '**Downside:** His authoritarian style, lack of social skills, and occasional power trips can make him a less effective leader.'),\n",
    "('Jan Levinson (Vice President of Regional Sales)','images/jan.png',\n",
    "    '**Competence and Intelligence:** Jan is extremely knowledgeable about the business world and brings a high level of professionalism to her role.',\n",
    "    '**Directness and Assertiveness:** She is not afraid to make tough decisions or address performance issues, which can be a strength in leadership.',\n",
    "    '**Attention to Detail:** Jan is meticulous in her work, ensuring that everything is up to standard.',\n",
    "    '**Downside:** Her personal issues and tendency toward micromanagement can lead to erratic behavior and inconsistency in leadership.'),\n",
    "('David Wallace (Chief Financial Officer / CEO','images/wallace.png',\n",
    "    '**Calm and Composed:** David is level-headed, even in crises. He maintains a professional demeanor and does not panic, which inspires confidence.' ,\n",
    "    '**Empathy and Understanding:** He treats employees with respect, listens to their concerns, and offers practical advice and support.',\n",
    "    \"**Strategic Vision:** David has a clear understanding of the company's big picture, enabling him to guide the company through challenging times.\",\n",
    "    '**Downside:** He sometimes delegates too much authority to ineffective leaders (e.g., allowing Michael to remain in charge for so long).'),\n",
    "('Ryan Howard (Temporary Employee / Vice President of Sales)','images/ryan.png',\n",
    "   '**Ambition and Vision:** Ryan is highly ambitious and shows a desire to bring modern ideas to the company, such as leveraging technology and marketing trends.',\n",
    "   '**Innovation:** He tries to implement new strategies, such as the website “Dunder Mifflin Infinity,” aiming to modernize the business.',\n",
    "   '**Downside:** His arrogance, unethical behavior, and lack of real experience make him a poor leader. His desire for quick success often leads to reckless decisions.'),\n",
    "('Charles Miner (Vice President of Regional Sales)','images/charles.png',\n",
    "   '**Professionalism and Structure:** Charles brings a sense of order and structure to the Scranton branch, providing clear expectations and maintaining professionalism.',\n",
    "   '**Assertiveness:** He is not afraid to challenge employees and hold them accountable, pushing for results.',\n",
    "   \"**Downside:** Charles's rigid style and inability to connect with employees create tension and reduce morale. He lacks the warmth needed to inspire loyalty.\"),\n",
    "('Andy Bernard (Regional Manager','images/andy.png',\n",
    "    '**Enthusiasm and Optimism:** Andy is known for his positive attitude and attempts to motivate the team with his energy.',\n",
    "    '**Encouragement of Creativity:** He tries to bring his unique flair to the office, often using music and humor to lighten the mood.',\n",
    "    '**Team Spirit:** Andy values camaraderie and wants the office to feel like a unified group.',\n",
    "    '**Downside:** Andy’s insecurity and lack of decisiveness make him an inconsistent leader. He struggles with self-confidence and tends to avoid conflict.'),\n",
    "('Gabe Lewis (Coordinator of Emerging Regions)','images/gabe.png',\n",
    "    '**Adherence to Policy:** Gabe strictly follows Sabre’s guidelines, ensuring that company policies are upheld.',\n",
    "    '**Adaptability:** He tries to fit into the office culture despite his corporate background, showing some adaptability.',\n",
    "    '**Downside:** Gabe’s lack of assertiveness and difficulty connecting with others make him an ineffective leader. He’s seen more as a corporate messenger than a true manager.'),\n",
    "('Robert California (CEO of Dunder Mifflin)','images/robert.png',\n",
    "    '**Charisma:** Robert possesses a magnetic personality and can be highly persuasive, drawing people into his way of thinking.',\n",
    "    '**Unconventional Leadership:** He challenges conventional thinking, often pushing employees to explore new perspectives and ideas.',\n",
    "    '**Adaptability:** Robert can read people well and adapt his style to different situations, making him an effective, albeit mysterious, leader.',\n",
    "    '**Downside:** His erratic and often confusing leadership style leaves employees unsure of expectations and goals.')]\n"
   ]
  },
  {
   "cell_type": "code",
   "execution_count": null,
   "metadata": {},
   "outputs": [],
   "source": [
    "\n"
   ]
  },
  {
   "cell_type": "code",
   "execution_count": 50,
   "metadata": {},
   "outputs": [],
   "source": [
    "\n",
    "def _make_manager_page(mm):\n",
    "    with open('generic_template.html','r') as f:\n",
    "        p0 = f.read()\n",
    "    mgr_name = mm[0]\n",
    "    mgr_image = mm[1]\n",
    "    mgr_desc_html = mm[2:]\n",
    "    # '[MANAGER_NAME]', '[MAIN_IMAGE_PATH]','[HTML_CONTENT_PAGE]'\n",
    "    p1 = p0.replace('MANAGER_NAME',mgr_name)\n",
    "    p1 = p1.replace('MAIN_IMAGE_PATH','\"' + mgr_image + '\"')\n",
    "    s = ''\n",
    "    for _m in mgr_desc_html:\n",
    "        s += '<p>'\n",
    "        _ss = _m[2:].find('**')\n",
    "        _txt = _m[2:][:_ss]\n",
    "        if 'down' not in _txt.lower():\n",
    "            thumbs = '👍'\n",
    "        else:\n",
    "            thumbs = '👎'\n",
    "        s += thumbs + \" <b>\" + _txt +\"</b>\"\n",
    "        \n",
    "\n",
    "        s += _m[2:][_ss+2:]\n",
    "        s += '</p>'\n",
    "    p1 = p1.replace('MGR_HTML_CONTENT', s)\n",
    "    fname = mgr_image[7:].split('.')[0]\n",
    "    with open(fname + '.html','w') as f:\n",
    "        f.write(p1)\n",
    "        \n",
    "for mm in managers:\n",
    "    _make_manager_page(mm)\n",
    "\n"
   ]
  },
  {
   "cell_type": "code",
   "execution_count": 38,
   "metadata": {},
   "outputs": [
    {
     "data": {
      "text/plain": [
       "'michael_scott'"
      ]
     },
     "execution_count": 38,
     "metadata": {},
     "output_type": "execute_result"
    }
   ],
   "source": [
    "fname"
   ]
  },
  {
   "cell_type": "code",
   "execution_count": null,
   "metadata": {},
   "outputs": [],
   "source": []
  }
 ],
 "metadata": {
  "kernelspec": {
   "display_name": "Python 3",
   "language": "python",
   "name": "python3"
  },
  "language_info": {
   "codemirror_mode": {
    "name": "ipython",
    "version": 3
   },
   "file_extension": ".py",
   "mimetype": "text/x-python",
   "name": "python",
   "nbconvert_exporter": "python",
   "pygments_lexer": "ipython3",
   "version": "3.10.12"
  }
 },
 "nbformat": 4,
 "nbformat_minor": 2
}
